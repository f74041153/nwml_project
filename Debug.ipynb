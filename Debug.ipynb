{
 "cells": [
  {
   "cell_type": "code",
   "execution_count": 1,
   "metadata": {},
   "outputs": [
    {
     "name": "stderr",
     "output_type": "stream",
     "text": [
      "/home/rslai/.local/lib/python3.6/site-packages/sklearn/utils/deprecation.py:144: FutureWarning: The sklearn.ensemble.forest module is  deprecated in version 0.22 and will be removed in version 0.24. The corresponding classes / functions should instead be imported from sklearn.ensemble. Anything that cannot be imported from sklearn.ensemble is now part of the private API.\n",
      "  warnings.warn(message, FutureWarning)\n",
      "/home/rslai/.local/lib/python3.6/site-packages/sklearn/externals/joblib/__init__.py:15: FutureWarning: sklearn.externals.joblib is deprecated in 0.21 and will be removed in 0.23. Please import this functionality directly from joblib, which can be installed with: pip install joblib. If this warning is raised when loading pickled models, you may need to re-serialize those models with scikit-learn 0.21+.\n",
      "  warnings.warn(msg, category=FutureWarning)\n"
     ]
    }
   ],
   "source": [
    "import argparse\n",
    "import itertools\n",
    "from collections import defaultdict\n",
    "\n",
    "import numpy as np\n",
    "import pandas as pd\n",
    "import pydotplus\n",
    "from sklearn.metrics import *\n",
    "from sklearn.tree import DecisionTreeClassifier, export_graphviz, export_text\n",
    "\n",
    "from sklearn.ensemble import RandomForestClassifier\n",
    "\n",
    "from scipy.stats import mode\n",
    "from sklearn.ensemble.forest import _partition_estimators, _accumulate_prediction\n",
    "from sklearn.tree._tree import DTYPE\n",
    "from sklearn.externals.joblib import Parallel, delayed\n",
    "from sklearn.utils import check_array\n",
    "from sklearn.utils.validation import check_is_fitted\n",
    "import threading\n",
    "from sklearn.utils.fixes import _joblib_parallel_args\n",
    "\n",
    "import pickle"
   ]
  },
  {
   "cell_type": "code",
   "execution_count": 2,
   "metadata": {},
   "outputs": [],
   "source": [
    "def store_model(path, model):\n",
    "    with open(path, 'wb') as f:\n",
    "        pickle.dump(model, f)\n",
    "        \n",
    "def load_model(path):\n",
    "    with open(path, 'rb') as f:\n",
    "        model = pickle.load(f)\n",
    "    return model"
   ]
  },
  {
   "cell_type": "code",
   "execution_count": 3,
   "metadata": {},
   "outputs": [],
   "source": [
    "def _parallel_helper(obj, methodname, *args, **kwargs):\n",
    "    return getattr(obj, methodname)(*args, **kwargs)\n",
    "\n",
    "def predict_majvote(_forest, X):\n",
    "    \"\"\"Predict class for X.\n",
    "\n",
    "    Uses majority voting, rather than the soft voting scheme\n",
    "    used by RandomForestClassifier.predict.\n",
    "\n",
    "    Parameters\n",
    "    ----------\n",
    "    X : array-like or sparse matrix of shape = [n_samples, n_features]\n",
    "        The input samples. Internally, it will be converted to\n",
    "        ``dtype=np.float32`` and if a sparse matrix is provided\n",
    "        to a sparse ``csr_matrix``.\n",
    "    Returns\n",
    "    -------\n",
    "    y : array of shape = [n_samples] or [n_samples, n_outputs]\n",
    "        The predicted classes.\n",
    "    \"\"\"\n",
    "    check_is_fitted(_forest, 'n_outputs_')\n",
    "\n",
    "    # Check data\n",
    "    X = check_array(X, dtype=DTYPE, accept_sparse=\"csr\")\n",
    "\n",
    "    # Assign chunk of trees to jobs\n",
    "    n_jobs, n_trees, starts = _partition_estimators(forest.n_estimators,\n",
    "                                                    forest.n_jobs)\n",
    "\n",
    "    # Parallel loop    \n",
    "    all_preds = Parallel(n_jobs=n_jobs, verbose=forest.verbose,\n",
    "                         backend=\"threading\")(\n",
    "        delayed(_parallel_helper)(e, 'predict', X, check_input=False)\n",
    "        for e in forest.estimators_)\n",
    "\n",
    "    \n",
    "    # Reduce\n",
    "    \n",
    "    modes, counts = mode(all_preds, axis=0)\n",
    "    modes = modes.astype(int)\n",
    "    \n",
    "    if _forest.n_outputs_ == 1:\n",
    "        return _forest.classes_.take(modes[0], axis=0)\n",
    "    else:\n",
    "        n_samples = all_preds[0].shape[0]\n",
    "        preds = np.zeros((n_samples, _forest.n_outputs_),\n",
    "                         dtype=_forest.classes_.dtype)\n",
    "        for k in range(_forest.n_outputs_):\n",
    "            preds[:, k] = _forest.classes_[k].take(modes[:, k], axis=0)\n",
    "        return preds"
   ]
  },
  {
   "cell_type": "code",
   "execution_count": 4,
   "metadata": {},
   "outputs": [],
   "source": [
    "# modify to your input file\n",
    "test_file = \"16-09-24-labeled.csv\""
   ]
  },
  {
   "cell_type": "code",
   "execution_count": 5,
   "metadata": {},
   "outputs": [],
   "source": [
    "# modify to your features\n",
    "feature_names = [\n",
    "    \"frame_len\",\n",
    "    \"eth_type\",\n",
    "    \"ip_proto\",\n",
    "    \"ip_flags\",\n",
    "    \"ipv6_nxt\",\n",
    "    \"ipv6_opt\",\n",
    "    \"tcp_srcport\",\n",
    "    \"tcp_dstport\",\n",
    "    \"tcp_flags\",\n",
    "    \"udp_srcport\",\n",
    "    \"udp_dstport\",\n",
    "    \"class\",\n",
    "]"
   ]
  },
  {
   "cell_type": "code",
   "execution_count": 6,
   "metadata": {},
   "outputs": [],
   "source": [
    "test_df = pd.read_csv(test_file, names=feature_names)"
   ]
  },
  {
   "cell_type": "code",
   "execution_count": 7,
   "metadata": {},
   "outputs": [],
   "source": [
    "def obj2int(df):\n",
    "    df[\"eth_type\"] = df[\"eth_type\"].apply(int, base=16)\n",
    "    df[\"ip_flags\"] = df[\"ip_flags\"].apply(int, base=16)\n",
    "    df[\"tcp_flags\"] = df[\"tcp_flags\"].apply(int, base=16)\n",
    "\n",
    "obj2int(test_df)"
   ]
  },
  {
   "cell_type": "code",
   "execution_count": 42,
   "metadata": {},
   "outputs": [],
   "source": [
    "selected_feature = ['tcp_dstport', 'tcp_srcport', 'udp_srcport', 'ip_flags', 'tcp_flags']\n",
    "df = test_df[selected_feature]"
   ]
  },
  {
   "cell_type": "code",
   "execution_count": 12,
   "metadata": {},
   "outputs": [],
   "source": [
    "forest = load_model('8_5/forest_8_5.pickle')\n",
    "Ntree = len(forest.estimators_)"
   ]
  },
  {
   "cell_type": "code",
   "execution_count": 13,
   "metadata": {},
   "outputs": [],
   "source": [
    "test_X = df\n",
    "y_ = predict_majvote(forest, test_X)"
   ]
  },
  {
   "cell_type": "code",
   "execution_count": 58,
   "metadata": {},
   "outputs": [
    {
     "name": "stderr",
     "output_type": "stream",
     "text": [
      "/home/rslai/.local/lib/python3.6/site-packages/ipykernel_launcher.py:1: SettingWithCopyWarning: \n",
      "A value is trying to be set on a copy of a slice from a DataFrame.\n",
      "Try using .loc[row_indexer,col_indexer] = value instead\n",
      "\n",
      "See the caveats in the documentation: https://pandas.pydata.org/pandas-docs/stable/user_guide/indexing.html#returning-a-view-versus-a-copy\n",
      "  \"\"\"Entry point for launching an IPython kernel.\n",
      "/home/rslai/.local/lib/python3.6/site-packages/ipykernel_launcher.py:2: SettingWithCopyWarning: \n",
      "A value is trying to be set on a copy of a slice from a DataFrame.\n",
      "Try using .loc[row_indexer,col_indexer] = value instead\n",
      "\n",
      "See the caveats in the documentation: https://pandas.pydata.org/pandas-docs/stable/user_guide/indexing.html#returning-a-view-versus-a-copy\n",
      "  \n"
     ]
    }
   ],
   "source": [
    "df['pred'] = y_\n",
    "df['orgin_idx'] = list(df.index)"
   ]
  },
  {
   "cell_type": "code",
   "execution_count": 55,
   "metadata": {},
   "outputs": [
    {
     "data": {
      "text/plain": [
       "4    602083\n",
       "3    132260\n",
       "0     57724\n",
       "2      7168\n",
       "Name: pred, dtype: int64"
      ]
     },
     "execution_count": 55,
     "metadata": {},
     "output_type": "execute_result"
    }
   ],
   "source": [
    "df['pred'].value_counts()"
   ]
  },
  {
   "cell_type": "code",
   "execution_count": 56,
   "metadata": {},
   "outputs": [
    {
     "data": {
      "text/html": [
       "<div>\n",
       "<style scoped>\n",
       "    .dataframe tbody tr th:only-of-type {\n",
       "        vertical-align: middle;\n",
       "    }\n",
       "\n",
       "    .dataframe tbody tr th {\n",
       "        vertical-align: top;\n",
       "    }\n",
       "\n",
       "    .dataframe thead th {\n",
       "        text-align: right;\n",
       "    }\n",
       "</style>\n",
       "<table border=\"1\" class=\"dataframe\">\n",
       "  <thead>\n",
       "    <tr style=\"text-align: right;\">\n",
       "      <th></th>\n",
       "      <th>tcp_dstport</th>\n",
       "      <th>tcp_srcport</th>\n",
       "      <th>udp_srcport</th>\n",
       "      <th>ip_flags</th>\n",
       "      <th>tcp_flags</th>\n",
       "      <th>pred</th>\n",
       "      <th>orgin_idx</th>\n",
       "    </tr>\n",
       "  </thead>\n",
       "  <tbody>\n",
       "    <tr>\n",
       "      <th>0</th>\n",
       "      <td>-1</td>\n",
       "      <td>-1</td>\n",
       "      <td>-1</td>\n",
       "      <td>16384</td>\n",
       "      <td>-1</td>\n",
       "      <td>4</td>\n",
       "      <td>0</td>\n",
       "    </tr>\n",
       "    <tr>\n",
       "      <th>1</th>\n",
       "      <td>-1</td>\n",
       "      <td>-1</td>\n",
       "      <td>-1</td>\n",
       "      <td>16384</td>\n",
       "      <td>-1</td>\n",
       "      <td>4</td>\n",
       "      <td>1</td>\n",
       "    </tr>\n",
       "    <tr>\n",
       "      <th>2</th>\n",
       "      <td>-1</td>\n",
       "      <td>-1</td>\n",
       "      <td>-1</td>\n",
       "      <td>16384</td>\n",
       "      <td>-1</td>\n",
       "      <td>4</td>\n",
       "      <td>2</td>\n",
       "    </tr>\n",
       "    <tr>\n",
       "      <th>3</th>\n",
       "      <td>-1</td>\n",
       "      <td>-1</td>\n",
       "      <td>-1</td>\n",
       "      <td>-1</td>\n",
       "      <td>-1</td>\n",
       "      <td>4</td>\n",
       "      <td>3</td>\n",
       "    </tr>\n",
       "    <tr>\n",
       "      <th>4</th>\n",
       "      <td>-1</td>\n",
       "      <td>-1</td>\n",
       "      <td>-1</td>\n",
       "      <td>-1</td>\n",
       "      <td>-1</td>\n",
       "      <td>4</td>\n",
       "      <td>4</td>\n",
       "    </tr>\n",
       "    <tr>\n",
       "      <th>...</th>\n",
       "      <td>...</td>\n",
       "      <td>...</td>\n",
       "      <td>...</td>\n",
       "      <td>...</td>\n",
       "      <td>...</td>\n",
       "      <td>...</td>\n",
       "      <td>...</td>\n",
       "    </tr>\n",
       "    <tr>\n",
       "      <th>799230</th>\n",
       "      <td>5228</td>\n",
       "      <td>58685</td>\n",
       "      <td>-1</td>\n",
       "      <td>16384</td>\n",
       "      <td>24</td>\n",
       "      <td>4</td>\n",
       "      <td>799230</td>\n",
       "    </tr>\n",
       "    <tr>\n",
       "      <th>799231</th>\n",
       "      <td>-1</td>\n",
       "      <td>-1</td>\n",
       "      <td>-1</td>\n",
       "      <td>0</td>\n",
       "      <td>-1</td>\n",
       "      <td>4</td>\n",
       "      <td>799231</td>\n",
       "    </tr>\n",
       "    <tr>\n",
       "      <th>799232</th>\n",
       "      <td>60757</td>\n",
       "      <td>443</td>\n",
       "      <td>-1</td>\n",
       "      <td>16384</td>\n",
       "      <td>16</td>\n",
       "      <td>4</td>\n",
       "      <td>799232</td>\n",
       "    </tr>\n",
       "    <tr>\n",
       "      <th>799233</th>\n",
       "      <td>1935</td>\n",
       "      <td>47747</td>\n",
       "      <td>-1</td>\n",
       "      <td>16384</td>\n",
       "      <td>16</td>\n",
       "      <td>4</td>\n",
       "      <td>799233</td>\n",
       "    </tr>\n",
       "    <tr>\n",
       "      <th>799234</th>\n",
       "      <td>47747</td>\n",
       "      <td>1935</td>\n",
       "      <td>-1</td>\n",
       "      <td>16384</td>\n",
       "      <td>16</td>\n",
       "      <td>4</td>\n",
       "      <td>799234</td>\n",
       "    </tr>\n",
       "  </tbody>\n",
       "</table>\n",
       "<p>741511 rows × 7 columns</p>\n",
       "</div>"
      ],
      "text/plain": [
       "        tcp_dstport  tcp_srcport  udp_srcport  ip_flags  tcp_flags  pred  \\\n",
       "0                -1           -1           -1     16384         -1     4   \n",
       "1                -1           -1           -1     16384         -1     4   \n",
       "2                -1           -1           -1     16384         -1     4   \n",
       "3                -1           -1           -1        -1         -1     4   \n",
       "4                -1           -1           -1        -1         -1     4   \n",
       "...             ...          ...          ...       ...        ...   ...   \n",
       "799230         5228        58685           -1     16384         24     4   \n",
       "799231           -1           -1           -1         0         -1     4   \n",
       "799232        60757          443           -1     16384         16     4   \n",
       "799233         1935        47747           -1     16384         16     4   \n",
       "799234        47747         1935           -1     16384         16     4   \n",
       "\n",
       "        orgin_idx  \n",
       "0               0  \n",
       "1               1  \n",
       "2               2  \n",
       "3               3  \n",
       "4               4  \n",
       "...           ...  \n",
       "799230     799230  \n",
       "799231     799231  \n",
       "799232     799232  \n",
       "799233     799233  \n",
       "799234     799234  \n",
       "\n",
       "[741511 rows x 7 columns]"
      ]
     },
     "metadata": {},
     "output_type": "display_data"
    }
   ],
   "source": [
    "# modify to the class sw predict\n",
    "sw_pred = 0\n",
    "display(df[df['pred']!=sw_pred])"
   ]
  },
  {
   "cell_type": "code",
   "execution_count": null,
   "metadata": {},
   "outputs": [],
   "source": []
  },
  {
   "cell_type": "code",
   "execution_count": null,
   "metadata": {},
   "outputs": [],
   "source": []
  }
 ],
 "metadata": {
  "kernelspec": {
   "display_name": "Python 3",
   "language": "python",
   "name": "python3"
  },
  "language_info": {
   "codemirror_mode": {
    "name": "ipython",
    "version": 3
   },
   "file_extension": ".py",
   "mimetype": "text/x-python",
   "name": "python",
   "nbconvert_exporter": "python",
   "pygments_lexer": "ipython3",
   "version": "3.6.10"
  }
 },
 "nbformat": 4,
 "nbformat_minor": 4
}
