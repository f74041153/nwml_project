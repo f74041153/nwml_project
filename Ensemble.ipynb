{
 "cells": [
  {
   "cell_type": "code",
   "execution_count": 1,
   "metadata": {},
   "outputs": [],
   "source": [
    "import argparse\n",
    "import itertools\n",
    "from collections import defaultdict\n",
    "\n",
    "import numpy as np\n",
    "import pandas as pd\n",
    "import pydotplus\n",
    "from sklearn.metrics import *\n",
    "from sklearn.tree import DecisionTreeClassifier, export_graphviz, export_text"
   ]
  },
  {
   "cell_type": "code",
   "execution_count": 2,
   "metadata": {},
   "outputs": [],
   "source": [
    "train_file = \"16-09-23-labeled.csv\"\n",
    "test_file = \"16-09-24-labeled.csv\""
   ]
  },
  {
   "cell_type": "markdown",
   "metadata": {},
   "source": [
    "## Data Loading"
   ]
  },
  {
   "cell_type": "code",
   "execution_count": 3,
   "metadata": {},
   "outputs": [],
   "source": [
    "feature_names = [\n",
    "    \"frame_len\",\n",
    "    \"eth_type\",\n",
    "    \"ip_proto\",\n",
    "    \"ip_flags\",\n",
    "    \"ipv6_nxt\",\n",
    "    \"ipv6_opt\",\n",
    "    \"tcp_srcport\",\n",
    "    \"tcp_dstport\",\n",
    "    \"tcp_flags\",\n",
    "    \"udp_srcport\",\n",
    "    \"udp_dstport\",\n",
    "    \"class\",\n",
    "]"
   ]
  },
  {
   "cell_type": "code",
   "execution_count": 4,
   "metadata": {},
   "outputs": [
    {
     "name": "stdout",
     "output_type": "stream",
     "text": [
      "<class 'pandas.core.frame.DataFrame'>\n",
      "RangeIndex: 947072 entries, 0 to 947071\n",
      "Data columns (total 12 columns):\n",
      " #   Column       Non-Null Count   Dtype \n",
      "---  ------       --------------   ----- \n",
      " 0   frame_len    947072 non-null  int64 \n",
      " 1   eth_type     947072 non-null  object\n",
      " 2   ip_proto     947072 non-null  int64 \n",
      " 3   ip_flags     947072 non-null  object\n",
      " 4   ipv6_nxt     947072 non-null  int64 \n",
      " 5   ipv6_opt     947072 non-null  int64 \n",
      " 6   tcp_srcport  947072 non-null  int64 \n",
      " 7   tcp_dstport  947072 non-null  int64 \n",
      " 8   tcp_flags    947072 non-null  object\n",
      " 9   udp_srcport  947072 non-null  int64 \n",
      " 10  udp_dstport  947072 non-null  int64 \n",
      " 11  class        947072 non-null  int64 \n",
      "dtypes: int64(9), object(3)\n",
      "memory usage: 86.7+ MB\n",
      "<class 'pandas.core.frame.DataFrame'>\n",
      "RangeIndex: 799235 entries, 0 to 799234\n",
      "Data columns (total 12 columns):\n",
      " #   Column       Non-Null Count   Dtype \n",
      "---  ------       --------------   ----- \n",
      " 0   frame_len    799235 non-null  int64 \n",
      " 1   eth_type     799235 non-null  object\n",
      " 2   ip_proto     799235 non-null  int64 \n",
      " 3   ip_flags     799235 non-null  object\n",
      " 4   ipv6_nxt     799235 non-null  int64 \n",
      " 5   ipv6_opt     799235 non-null  int64 \n",
      " 6   tcp_srcport  799235 non-null  int64 \n",
      " 7   tcp_dstport  799235 non-null  int64 \n",
      " 8   tcp_flags    799235 non-null  object\n",
      " 9   udp_srcport  799235 non-null  int64 \n",
      " 10  udp_dstport  799235 non-null  int64 \n",
      " 11  class        799235 non-null  int64 \n",
      "dtypes: int64(9), object(3)\n",
      "memory usage: 73.2+ MB\n"
     ]
    }
   ],
   "source": [
    "train_df = pd.read_csv(train_file, names=feature_names)\n",
    "test_df = pd.read_csv(test_file, names=feature_names)\n",
    "train_df.info()\n",
    "test_df.info()"
   ]
  },
  {
   "cell_type": "markdown",
   "metadata": {},
   "source": [
    "## Data Preprocessing"
   ]
  },
  {
   "cell_type": "code",
   "execution_count": 5,
   "metadata": {},
   "outputs": [],
   "source": [
    "def obj2int(df):\n",
    "    df[\"eth_type\"] = df[\"eth_type\"].apply(int, base=16)\n",
    "    df[\"ip_flags\"] = df[\"ip_flags\"].apply(int, base=16)\n",
    "    df[\"tcp_flags\"] = df[\"tcp_flags\"].apply(int, base=16)"
   ]
  },
  {
   "cell_type": "code",
   "execution_count": 6,
   "metadata": {},
   "outputs": [],
   "source": [
    "obj2int(train_df)\n",
    "obj2int(test_df)"
   ]
  },
  {
   "cell_type": "markdown",
   "metadata": {},
   "source": [
    "### Feature Selection"
   ]
  },
  {
   "cell_type": "code",
   "execution_count": 7,
   "metadata": {},
   "outputs": [],
   "source": [
    "from sklearn.feature_selection import SelectKBest, f_classif"
   ]
  },
  {
   "cell_type": "code",
   "execution_count": 8,
   "metadata": {
    "scrolled": false
   },
   "outputs": [
    {
     "data": {
      "text/html": [
       "<div>\n",
       "<style scoped>\n",
       "    .dataframe tbody tr th:only-of-type {\n",
       "        vertical-align: middle;\n",
       "    }\n",
       "\n",
       "    .dataframe tbody tr th {\n",
       "        vertical-align: top;\n",
       "    }\n",
       "\n",
       "    .dataframe thead th {\n",
       "        text-align: right;\n",
       "    }\n",
       "</style>\n",
       "<table border=\"1\" class=\"dataframe\">\n",
       "  <thead>\n",
       "    <tr style=\"text-align: right;\">\n",
       "      <th></th>\n",
       "      <th>feature</th>\n",
       "      <th>scores</th>\n",
       "    </tr>\n",
       "  </thead>\n",
       "  <tbody>\n",
       "    <tr>\n",
       "      <th>7</th>\n",
       "      <td>tcp_dstport</td>\n",
       "      <td>65902.683596</td>\n",
       "    </tr>\n",
       "    <tr>\n",
       "      <th>6</th>\n",
       "      <td>tcp_srcport</td>\n",
       "      <td>40358.782288</td>\n",
       "    </tr>\n",
       "    <tr>\n",
       "      <th>9</th>\n",
       "      <td>udp_srcport</td>\n",
       "      <td>26119.902242</td>\n",
       "    </tr>\n",
       "    <tr>\n",
       "      <th>3</th>\n",
       "      <td>ip_flags</td>\n",
       "      <td>9489.374402</td>\n",
       "    </tr>\n",
       "    <tr>\n",
       "      <th>8</th>\n",
       "      <td>tcp_flags</td>\n",
       "      <td>8881.530829</td>\n",
       "    </tr>\n",
       "    <tr>\n",
       "      <th>4</th>\n",
       "      <td>ipv6_nxt</td>\n",
       "      <td>7728.277404</td>\n",
       "    </tr>\n",
       "    <tr>\n",
       "      <th>1</th>\n",
       "      <td>eth_type</td>\n",
       "      <td>7691.922210</td>\n",
       "    </tr>\n",
       "    <tr>\n",
       "      <th>0</th>\n",
       "      <td>frame_len</td>\n",
       "      <td>7352.275173</td>\n",
       "    </tr>\n",
       "    <tr>\n",
       "      <th>10</th>\n",
       "      <td>udp_dstport</td>\n",
       "      <td>4659.166980</td>\n",
       "    </tr>\n",
       "    <tr>\n",
       "      <th>2</th>\n",
       "      <td>ip_proto</td>\n",
       "      <td>1363.429444</td>\n",
       "    </tr>\n",
       "    <tr>\n",
       "      <th>5</th>\n",
       "      <td>ipv6_opt</td>\n",
       "      <td>603.095045</td>\n",
       "    </tr>\n",
       "  </tbody>\n",
       "</table>\n",
       "</div>"
      ],
      "text/plain": [
       "        feature        scores\n",
       "7   tcp_dstport  65902.683596\n",
       "6   tcp_srcport  40358.782288\n",
       "9   udp_srcport  26119.902242\n",
       "3      ip_flags   9489.374402\n",
       "8     tcp_flags   8881.530829\n",
       "4      ipv6_nxt   7728.277404\n",
       "1      eth_type   7691.922210\n",
       "0     frame_len   7352.275173\n",
       "10  udp_dstport   4659.166980\n",
       "2      ip_proto   1363.429444\n",
       "5      ipv6_opt    603.095045"
      ]
     },
     "metadata": {},
     "output_type": "display_data"
    }
   ],
   "source": [
    "X = train_df.iloc[:, :-1]\n",
    "Y = train_df[\"class\"]\n",
    "kbest = SelectKBest(f_classif, k=11)\n",
    "kbest.fit(X, Y)\n",
    "sc = pd.DataFrame(\n",
    "    list(zip(X, kbest.scores_)), columns=[\"feature\", \"scores\"]\n",
    ").sort_values(\"scores\", ascending=False)\n",
    "display(sc)"
   ]
  },
  {
   "cell_type": "code",
   "execution_count": 9,
   "metadata": {},
   "outputs": [
    {
     "name": "stdout",
     "output_type": "stream",
     "text": [
      "['tcp_dstport', 'tcp_srcport', 'udp_srcport', 'ip_flags', 'tcp_flags']\n"
     ]
    }
   ],
   "source": [
    "selectN = 5\n",
    "selected_features = list(sc[\"feature\"][:selectN])\n",
    "print(selected_features)"
   ]
  },
  {
   "cell_type": "code",
   "execution_count": 10,
   "metadata": {},
   "outputs": [],
   "source": [
    "train_X = train_df[selected_features]\n",
    "train_Y = train_df[\"class\"]\n",
    "test_X = test_df[selected_features]\n",
    "test_Y = test_df[\"class\"]"
   ]
  },
  {
   "cell_type": "markdown",
   "metadata": {},
   "source": [
    "## Model Training"
   ]
  },
  {
   "cell_type": "code",
   "execution_count": 11,
   "metadata": {},
   "outputs": [],
   "source": [
    "from sklearn.model_selection import cross_val_score"
   ]
  },
  {
   "cell_type": "markdown",
   "metadata": {},
   "source": [
    "### Decision Tree\n",
    "#### Train"
   ]
  },
  {
   "cell_type": "code",
   "execution_count": 115,
   "metadata": {},
   "outputs": [
    {
     "name": "stdout",
     "output_type": "stream",
     "text": [
      "0.8597499068153167\n"
     ]
    }
   ],
   "source": [
    "dt = DecisionTreeClassifier(max_depth=5)\n",
    "scores = cross_val_score(dt, train_X, train_Y, cv=10, scoring=\"accuracy\")\n",
    "print(scores.mean())"
   ]
  },
  {
   "cell_type": "code",
   "execution_count": 116,
   "metadata": {},
   "outputs": [
    {
     "name": "stdout",
     "output_type": "stream",
     "text": [
      "0.8960807626030545\n"
     ]
    }
   ],
   "source": [
    "dt.fit(train_X, train_Y)\n",
    "print(dt.score(train_X, train_Y))"
   ]
  },
  {
   "cell_type": "markdown",
   "metadata": {},
   "source": [
    "#### Predict"
   ]
  },
  {
   "cell_type": "code",
   "execution_count": 117,
   "metadata": {},
   "outputs": [
    {
     "name": "stdout",
     "output_type": "stream",
     "text": [
      "Accuracy: 0.720\n",
      "Precision: 0.725\n"
     ]
    },
    {
     "name": "stderr",
     "output_type": "stream",
     "text": [
      "/home/rslai/.local/lib/python3.6/site-packages/sklearn/metrics/_classification.py:1272: UndefinedMetricWarning: Precision is ill-defined and being set to 0.0 in labels with no predicted samples. Use `zero_division` parameter to control this behavior.\n",
      "  _warn_prf(average, modifier, msg_start, len(result))\n"
     ]
    },
    {
     "name": "stdout",
     "output_type": "stream",
     "text": [
      "Recall: 0.720\n",
      "F1: 0.656\n",
      "\n"
     ]
    }
   ],
   "source": [
    "y = dt.predict(test_X)\n",
    "print(\"Accuracy: %1.3f\" % accuracy_score(test_Y, y))\n",
    "print(\"Precision: %1.3f\" % precision_score(test_Y, y, average=\"weighted\"))\n",
    "print(\"Recall: %1.3f\" % recall_score(test_Y, y, average=\"weighted\"))\n",
    "print(\"F1: %1.3f\\n\" % f1_score(test_Y, y, average=\"weighted\"))"
   ]
  },
  {
   "cell_type": "markdown",
   "metadata": {},
   "source": [
    "### Random Forest"
   ]
  },
  {
   "cell_type": "code",
   "execution_count": 15,
   "metadata": {},
   "outputs": [
    {
     "name": "stderr",
     "output_type": "stream",
     "text": [
      "/home/rslai/.local/lib/python3.6/site-packages/sklearn/utils/deprecation.py:144: FutureWarning: The sklearn.ensemble.forest module is  deprecated in version 0.22 and will be removed in version 0.24. The corresponding classes / functions should instead be imported from sklearn.ensemble. Anything that cannot be imported from sklearn.ensemble is now part of the private API.\n",
      "  warnings.warn(message, FutureWarning)\n",
      "/home/rslai/.local/lib/python3.6/site-packages/sklearn/externals/joblib/__init__.py:15: FutureWarning: sklearn.externals.joblib is deprecated in 0.21 and will be removed in 0.23. Please import this functionality directly from joblib, which can be installed with: pip install joblib. If this warning is raised when loading pickled models, you may need to re-serialize those models with scikit-learn 0.21+.\n",
      "  warnings.warn(msg, category=FutureWarning)\n"
     ]
    }
   ],
   "source": [
    "from sklearn.ensemble import RandomForestClassifier\n",
    "\n",
    "from scipy.stats import mode\n",
    "from sklearn.ensemble.forest import _partition_estimators, _accumulate_prediction\n",
    "from sklearn.tree._tree import DTYPE\n",
    "from sklearn.externals.joblib import Parallel, delayed\n",
    "from sklearn.utils import check_array\n",
    "from sklearn.utils.validation import check_is_fitted\n",
    "import threading\n",
    "from sklearn.utils.fixes import _joblib_parallel_args"
   ]
  },
  {
   "cell_type": "code",
   "execution_count": 16,
   "metadata": {},
   "outputs": [],
   "source": [
    "def _parallel_helper(obj, methodname, *args, **kwargs):\n",
    "    return getattr(obj, methodname)(*args, **kwargs)\n",
    "\n",
    "def predict_majvote(_forest, X):\n",
    "    \"\"\"Predict class for X.\n",
    "\n",
    "    Uses majority voting, rather than the soft voting scheme\n",
    "    used by RandomForestClassifier.predict.\n",
    "\n",
    "    Parameters\n",
    "    ----------\n",
    "    X : array-like or sparse matrix of shape = [n_samples, n_features]\n",
    "        The input samples. Internally, it will be converted to\n",
    "        ``dtype=np.float32`` and if a sparse matrix is provided\n",
    "        to a sparse ``csr_matrix``.\n",
    "    Returns\n",
    "    -------\n",
    "    y : array of shape = [n_samples] or [n_samples, n_outputs]\n",
    "        The predicted classes.\n",
    "    \"\"\"\n",
    "    check_is_fitted(_forest, 'n_outputs_')\n",
    "\n",
    "    # Check data\n",
    "    X = check_array(X, dtype=DTYPE, accept_sparse=\"csr\")\n",
    "\n",
    "    # Assign chunk of trees to jobs\n",
    "    n_jobs, n_trees, starts = _partition_estimators(forest.n_estimators,\n",
    "                                                    forest.n_jobs)\n",
    "\n",
    "    # Parallel loop    \n",
    "    all_preds = Parallel(n_jobs=n_jobs, verbose=forest.verbose,\n",
    "                         backend=\"threading\")(\n",
    "        delayed(_parallel_helper)(e, 'predict', X, check_input=False)\n",
    "        for e in forest.estimators_)\n",
    "\n",
    "    \n",
    "    # Reduce\n",
    "    \n",
    "    modes, counts = mode(all_preds, axis=0)\n",
    "    modes = modes.astype(int)\n",
    "    \n",
    "    if _forest.n_outputs_ == 1:\n",
    "        return _forest.classes_.take(modes[0], axis=0)\n",
    "    else:\n",
    "        n_samples = all_preds[0].shape[0]\n",
    "        preds = np.zeros((n_samples, _forest.n_outputs_),\n",
    "                         dtype=_forest.classes_.dtype)\n",
    "        for k in range(_forest.n_outputs_):\n",
    "            preds[:, k] = _forest.classes_[k].take(modes[:, k], axis=0)\n",
    "        return preds"
   ]
  },
  {
   "cell_type": "markdown",
   "metadata": {},
   "source": [
    "#### Train"
   ]
  },
  {
   "cell_type": "code",
   "execution_count": 227,
   "metadata": {},
   "outputs": [],
   "source": [
    "train_new = True"
   ]
  },
  {
   "cell_type": "code",
   "execution_count": 230,
   "metadata": {},
   "outputs": [
    {
     "name": "stdout",
     "output_type": "stream",
     "text": [
      "0.8607698880108213\n",
      "0.896097656777943\n"
     ]
    }
   ],
   "source": [
    "if not train_new:\n",
    "    forest = load_model('8_5/forest_large.pickle')\n",
    "    Ntree = len(forest.estimators_)\n",
    "else:\n",
    "    Ntree = 8\n",
    "    forest = RandomForestClassifier(max_depth=5, n_estimators=Ntree, max_features=None)\n",
    "    scores = cross_val_score(forest, train_X, train_Y, cv=10, scoring=\"accuracy\")\n",
    "    print(scores.mean())\n",
    "    forest.fit(train_X, train_Y)\n",
    "    print(forest.score(train_X, train_Y))"
   ]
  },
  {
   "cell_type": "markdown",
   "metadata": {},
   "source": [
    "#### Predict by prob"
   ]
  },
  {
   "cell_type": "code",
   "execution_count": 219,
   "metadata": {},
   "outputs": [
    {
     "name": "stdout",
     "output_type": "stream",
     "text": [
      "Accuracy: 0.807\n",
      "Precision: 0.822\n",
      "Recall: 0.807\n",
      "F1: 0.783\n",
      "\n"
     ]
    }
   ],
   "source": [
    "y = forest.predict(test_X)\n",
    "print(\"Accuracy: %1.3f\" % accuracy_score(test_Y, y))\n",
    "print(\"Precision: %1.3f\" % precision_score(test_Y, y, average=\"weighted\"))\n",
    "print(\"Recall: %1.3f\" % recall_score(test_Y, y, average=\"weighted\"))\n",
    "print(\"F1: %1.3f\\n\" % f1_score(test_Y, y, average=\"weighted\"))"
   ]
  },
  {
   "cell_type": "code",
   "execution_count": 232,
   "metadata": {},
   "outputs": [],
   "source": [
    "if train_new:\n",
    "    store_model('8_5/forest_8_5', forest)"
   ]
  },
  {
   "cell_type": "markdown",
   "metadata": {},
   "source": [
    "#### Predict by vote"
   ]
  },
  {
   "cell_type": "code",
   "execution_count": 231,
   "metadata": {},
   "outputs": [
    {
     "name": "stdout",
     "output_type": "stream",
     "text": [
      "Accuracy: 0.723\n",
      "Precision: 0.732\n"
     ]
    },
    {
     "name": "stderr",
     "output_type": "stream",
     "text": [
      "/home/rslai/.local/lib/python3.6/site-packages/sklearn/metrics/_classification.py:1272: UndefinedMetricWarning: Precision is ill-defined and being set to 0.0 in labels with no predicted samples. Use `zero_division` parameter to control this behavior.\n",
      "  _warn_prf(average, modifier, msg_start, len(result))\n"
     ]
    },
    {
     "name": "stdout",
     "output_type": "stream",
     "text": [
      "Recall: 0.723\n",
      "F1: 0.663\n",
      "\n"
     ]
    }
   ],
   "source": [
    "y_ = predict_majvote(forest, test_X)\n",
    "print(\"Accuracy: %1.3f\" % accuracy_score(test_Y, y_))\n",
    "print(\"Precision: %1.3f\" % precision_score(test_Y, y_, average=\"weighted\"))\n",
    "print(\"Recall: %1.3f\" % recall_score(test_Y, y_, average=\"weighted\"))\n",
    "print(\"F1: %1.3f\\n\" % f1_score(test_Y, y_, average=\"weighted\"))"
   ]
  },
  {
   "cell_type": "markdown",
   "metadata": {},
   "source": [
    "## Output"
   ]
  },
  {
   "cell_type": "code",
   "execution_count": 221,
   "metadata": {},
   "outputs": [],
   "source": [
    "def tree_2_sw_configuration(isforest, model, thres_file):\n",
    "\n",
    "    if isforest:\n",
    "        _Ntree = Ntree\n",
    "    else:\n",
    "        _Ntree = 1\n",
    "\n",
    "    feature_lists = defaultdict(list)\n",
    "    for j in range(_Ntree):\n",
    "        threshold = model[j].tree_.threshold\n",
    "        features = [selected_features[i] for i in model[j].tree_.feature]\n",
    "        for i, fe in enumerate(features):\n",
    "            if threshold[i] > -2:\n",
    "                feature_lists[fe].append(threshold[i])\n",
    "\n",
    "    for i in feature_lists:\n",
    "        feature_lists[i] = sorted(list(set(feature_lists[i])))\n",
    "        \n",
    "    with open(thres_file,'w') as f:\n",
    "        for i in feature_lists:\n",
    "            f.write(i+'='+str(feature_lists[i])+'\\n')\n",
    "\n",
    "    rslt = defaultdict(list)\n",
    "    for n in range(_Ntree):\n",
    "        left = model[n].tree_.children_left\n",
    "        right = model[n].tree_.children_right\n",
    "        threshold = model[n].tree_.threshold\n",
    "        features = [selected_features[i] for i in model[n].tree_.feature]\n",
    "        value = model[n].tree_.value\n",
    "        idx = np.argwhere(left == -1)[:, 0]\n",
    "\n",
    "        def recurse(left, right, child, lineage=None):\n",
    "            if lineage is None:\n",
    "                lineage = [child]\n",
    "            if child in left:\n",
    "                parent = np.where(left == child)[0].item()\n",
    "                split = \"l\"\n",
    "            else:\n",
    "                parent = np.where(right == child)[0].item()\n",
    "                split = \"r\"\n",
    "\n",
    "            lineage.append((parent, split, threshold[parent], features[parent]))\n",
    "            if parent == 0:\n",
    "                lineage.reverse()\n",
    "                return lineage\n",
    "            else:\n",
    "                return recurse(left, right, parent, lineage)\n",
    "\n",
    "        for j, child in enumerate(idx):\n",
    "            feature_idxs = {}\n",
    "            for i in selected_features:\n",
    "                feature_idxs[i] = [i for i in range(len(feature_lists[i]) + 1)]\n",
    "\n",
    "            rl = []\n",
    "            for node in recurse(left, right, child):\n",
    "\n",
    "                if len(str(node)) < 3:\n",
    "                    continue\n",
    "                \n",
    "                if type(node) is not tuple:\n",
    "                    continue\n",
    "                \n",
    "                i = node\n",
    "                thres = float(i[2])\n",
    "                id = feature_lists[i[3]].index(thres)\n",
    "                if i[1] == \"l\":\n",
    "                    while id < len(feature_lists[i[3]]):\n",
    "                        if id + 1 in feature_idxs[i[3]]:\n",
    "                            feature_idxs[i[3]].remove(id + 1)\n",
    "                        id = id + 1\n",
    "                else:\n",
    "                    while id >= 0:\n",
    "                        if id in feature_idxs[i[3]]:\n",
    "                            feature_idxs[i[3]].remove(id)\n",
    "                        id = id - 1\n",
    "\n",
    "            for k in selected_features:\n",
    "                rl.append(feature_idxs[k])\n",
    "\n",
    "            a = list(value[node][0])\n",
    "            ind = a.index(max(a))\n",
    "\n",
    "            for combination in itertools.product(*rl):\n",
    "                if not rslt[combination]:\n",
    "                    rslt[combination] = [-1 for i in range(_Ntree)]\n",
    "                rslt[combination][n] = ind\n",
    "\n",
    "    return rslt"
   ]
  },
  {
   "cell_type": "code",
   "execution_count": 233,
   "metadata": {},
   "outputs": [],
   "source": [
    "cfg = tree_2_sw_configuration(True, forest.estimators_,'8_5/thres')"
   ]
  },
  {
   "cell_type": "code",
   "execution_count": 234,
   "metadata": {
    "scrolled": true
   },
   "outputs": [],
   "source": [
    "output = []\n",
    "for key, value in cfg.items():\n",
    "    code = list(key)\n",
    "    output.append(tuple(code + value))\n",
    "hdrs = selected_features + [(\"action\" + str(i)) for i in range(Ntree)]"
   ]
  },
  {
   "cell_type": "code",
   "execution_count": 235,
   "metadata": {},
   "outputs": [
    {
     "name": "stdout",
     "output_type": "stream",
     "text": [
      "0 66240\n"
     ]
    }
   ],
   "source": [
    "num = 100000\n",
    "iters = int(len(output)/num) + 1\n",
    "for i in range(iters):\n",
    "    left = i*num\n",
    "    right = min((i+1)*num-1,len(output))\n",
    "    print(left,right)\n",
    "    output_df = pd.DataFrame(output[left:right], columns=hdrs)\n",
    "    output_df[\"max_freq\"] = output_df[[(\"action\" + str(i)) for i in range(Ntree)]].agg(\n",
    "        lambda x: x.mode() if x.mode().size == 1 else min(x.mode()), axis=1\n",
    "    )\n",
    "    output_df.to_csv('8_5/result/' + str(i) + '.csv',index=False)\n",
    "    #display(output_df.head())"
   ]
  },
  {
   "cell_type": "code",
   "execution_count": 236,
   "metadata": {},
   "outputs": [
    {
     "name": "stdout",
     "output_type": "stream",
     "text": [
      "tcp_dstport {0, 1, 2, 3, 4, 5, 6, 7, 8, 9}\n",
      "tcp_srcport {0, 1, 2, 3, 4, 5, 6, 7, 8, 9, 10, 11, 12, 13, 14, 15, 16, 17, 18, 19, 20, 21, 22}\n",
      "udp_srcport {0, 1, 2, 3, 4, 5, 6, 7, 8, 9, 10, 11, 12, 13, 14, 15, 16, 17, 18, 19, 20, 21, 22, 23}\n",
      "ip_flags {0, 1, 2}\n",
      "tcp_flags {0, 1, 2, 3}\n",
      "action0 {0, 2, 3, 4}\n",
      "action1 {0, 2, 3, 4}\n",
      "action2 {0, 2, 3, 4}\n",
      "action3 {0, 2, 3, 4}\n",
      "action4 {0, 2, 3, 4}\n",
      "action5 {0, 2, 3, 4}\n",
      "action6 {0, 2, 3, 4}\n",
      "action7 {0, 2, 3, 4}\n",
      "max_freq {0, 2, 3, 4}\n"
     ]
    }
   ],
   "source": [
    "for i in output_df.columns:\n",
    "    print(i,set(list(output_df[i])))"
   ]
  },
  {
   "cell_type": "code",
   "execution_count": 237,
   "metadata": {},
   "outputs": [
    {
     "data": {
      "text/plain": [
       "66240"
      ]
     },
     "execution_count": 237,
     "metadata": {},
     "output_type": "execute_result"
    }
   ],
   "source": [
    "10*23*24*3*4"
   ]
  },
  {
   "cell_type": "code",
   "execution_count": 25,
   "metadata": {},
   "outputs": [
    {
     "name": "stdout",
     "output_type": "stream",
     "text": [
      "4    435365\n",
      "3    163246\n",
      "2    118184\n",
      "0     76045\n",
      "1      6395\n",
      "Name: class, dtype: int64\n"
     ]
    }
   ],
   "source": [
    "print(test_Y.value_counts())"
   ]
  },
  {
   "cell_type": "code",
   "execution_count": 26,
   "metadata": {},
   "outputs": [
    {
     "name": "stdout",
     "output_type": "stream",
     "text": [
      "4    602142\n",
      "3    132193\n",
      "0     57732\n",
      "2      7168\n",
      "Name: 0, dtype: int64\n"
     ]
    }
   ],
   "source": [
    "print(pd.DataFrame(y_)[0].value_counts())"
   ]
  },
  {
   "cell_type": "code",
   "execution_count": 27,
   "metadata": {},
   "outputs": [
    {
     "name": "stdout",
     "output_type": "stream",
     "text": [
      "4    29913\n",
      "3    16233\n",
      "2     8118\n",
      "0     1986\n",
      "Name: max_freq, dtype: int64\n"
     ]
    }
   ],
   "source": [
    "print(output_df[\"max_freq\"].value_counts())"
   ]
  },
  {
   "cell_type": "code",
   "execution_count": 28,
   "metadata": {},
   "outputs": [],
   "source": [
    "output_df.to_csv('output.csv',index=False)"
   ]
  },
  {
   "cell_type": "markdown",
   "metadata": {},
   "source": [
    "## Store Model"
   ]
  },
  {
   "cell_type": "code",
   "execution_count": 206,
   "metadata": {},
   "outputs": [],
   "source": [
    "import pickle "
   ]
  },
  {
   "cell_type": "code",
   "execution_count": 208,
   "metadata": {},
   "outputs": [],
   "source": [
    "def store_model(path, model):\n",
    "    with open(path, 'wb') as f:\n",
    "        pickle.dump(model, f)\n",
    "        \n",
    "def load_model(path):\n",
    "    with open(path, 'rb') as f:\n",
    "        model = pickle.load(f)\n",
    "    return model"
   ]
  },
  {
   "cell_type": "code",
   "execution_count": 209,
   "metadata": {},
   "outputs": [
    {
     "name": "stdout",
     "output_type": "stream",
     "text": [
      "8\n"
     ]
    }
   ],
   "source": [
    "print(len(forest.estimators_))"
   ]
  },
  {
   "cell_type": "code",
   "execution_count": null,
   "metadata": {},
   "outputs": [],
   "source": []
  }
 ],
 "metadata": {
  "kernelspec": {
   "display_name": "Python 3",
   "language": "python",
   "name": "python3"
  },
  "language_info": {
   "codemirror_mode": {
    "name": "ipython",
    "version": 3
   },
   "file_extension": ".py",
   "mimetype": "text/x-python",
   "name": "python",
   "nbconvert_exporter": "python",
   "pygments_lexer": "ipython3",
   "version": "3.6.10"
  }
 },
 "nbformat": 4,
 "nbformat_minor": 4
}
