{
 "cells": [
  {
   "cell_type": "code",
   "execution_count": 1,
   "metadata": {},
   "outputs": [],
   "source": [
    "import argparse\n",
    "import itertools\n",
    "from collections import defaultdict\n",
    "\n",
    "import numpy as np\n",
    "import pandas as pd\n",
    "import pydotplus\n",
    "from sklearn.metrics import *\n",
    "from sklearn.tree import DecisionTreeClassifier, export_graphviz, export_text"
   ]
  },
  {
   "cell_type": "code",
   "execution_count": 2,
   "metadata": {},
   "outputs": [],
   "source": [
    "train_file = \"16-09-23-labeled.csv\"\n",
    "test_file = \"16-09-24-labeled.csv\""
   ]
  },
  {
   "cell_type": "markdown",
   "metadata": {},
   "source": [
    "## Data Loading"
   ]
  },
  {
   "cell_type": "code",
   "execution_count": 3,
   "metadata": {},
   "outputs": [],
   "source": [
    "feature_names = [\n",
    "    \"frame_len\",\n",
    "    \"eth_type\",\n",
    "    \"ip_proto\",\n",
    "    \"ip_flags\",\n",
    "    \"ipv6_nxt\",\n",
    "    \"ipv6_opt\",\n",
    "    \"tcp_srcport\",\n",
    "    \"tcp_dstport\",\n",
    "    \"tcp_flags\",\n",
    "    \"udp_srcport\",\n",
    "    \"udp_dstport\",\n",
    "    \"class\",\n",
    "]"
   ]
  },
  {
   "cell_type": "code",
   "execution_count": 4,
   "metadata": {},
   "outputs": [
    {
     "name": "stdout",
     "output_type": "stream",
     "text": [
      "<class 'pandas.core.frame.DataFrame'>\n",
      "RangeIndex: 947072 entries, 0 to 947071\n",
      "Data columns (total 12 columns):\n",
      " #   Column       Non-Null Count   Dtype \n",
      "---  ------       --------------   ----- \n",
      " 0   frame_len    947072 non-null  int64 \n",
      " 1   eth_type     947072 non-null  object\n",
      " 2   ip_proto     947072 non-null  int64 \n",
      " 3   ip_flags     947072 non-null  object\n",
      " 4   ipv6_nxt     947072 non-null  int64 \n",
      " 5   ipv6_opt     947072 non-null  int64 \n",
      " 6   tcp_srcport  947072 non-null  int64 \n",
      " 7   tcp_dstport  947072 non-null  int64 \n",
      " 8   tcp_flags    947072 non-null  object\n",
      " 9   udp_srcport  947072 non-null  int64 \n",
      " 10  udp_dstport  947072 non-null  int64 \n",
      " 11  class        947072 non-null  int64 \n",
      "dtypes: int64(9), object(3)\n",
      "memory usage: 86.7+ MB\n",
      "<class 'pandas.core.frame.DataFrame'>\n",
      "RangeIndex: 799235 entries, 0 to 799234\n",
      "Data columns (total 12 columns):\n",
      " #   Column       Non-Null Count   Dtype \n",
      "---  ------       --------------   ----- \n",
      " 0   frame_len    799235 non-null  int64 \n",
      " 1   eth_type     799235 non-null  object\n",
      " 2   ip_proto     799235 non-null  int64 \n",
      " 3   ip_flags     799235 non-null  object\n",
      " 4   ipv6_nxt     799235 non-null  int64 \n",
      " 5   ipv6_opt     799235 non-null  int64 \n",
      " 6   tcp_srcport  799235 non-null  int64 \n",
      " 7   tcp_dstport  799235 non-null  int64 \n",
      " 8   tcp_flags    799235 non-null  object\n",
      " 9   udp_srcport  799235 non-null  int64 \n",
      " 10  udp_dstport  799235 non-null  int64 \n",
      " 11  class        799235 non-null  int64 \n",
      "dtypes: int64(9), object(3)\n",
      "memory usage: 73.2+ MB\n"
     ]
    }
   ],
   "source": [
    "train_df = pd.read_csv(train_file, names=feature_names)\n",
    "test_df = pd.read_csv(test_file, names=feature_names)\n",
    "train_df.info()\n",
    "test_df.info()"
   ]
  },
  {
   "cell_type": "markdown",
   "metadata": {},
   "source": [
    "## Data Preprocessing"
   ]
  },
  {
   "cell_type": "code",
   "execution_count": 5,
   "metadata": {},
   "outputs": [],
   "source": [
    "def obj2int(df):\n",
    "    df[\"eth_type\"] = df[\"eth_type\"].apply(int, base=16)\n",
    "    df[\"ip_flags\"] = df[\"ip_flags\"].apply(int, base=16)\n",
    "    df[\"tcp_flags\"] = df[\"tcp_flags\"].apply(int, base=16)"
   ]
  },
  {
   "cell_type": "code",
   "execution_count": 6,
   "metadata": {},
   "outputs": [],
   "source": [
    "obj2int(train_df)\n",
    "obj2int(test_df)"
   ]
  },
  {
   "cell_type": "markdown",
   "metadata": {},
   "source": [
    "### Feature Selection"
   ]
  },
  {
   "cell_type": "code",
   "execution_count": 7,
   "metadata": {},
   "outputs": [],
   "source": [
    "from sklearn.feature_selection import SelectKBest, f_classif"
   ]
  },
  {
   "cell_type": "code",
   "execution_count": 8,
   "metadata": {
    "scrolled": false
   },
   "outputs": [
    {
     "data": {
      "text/html": [
       "<div>\n",
       "<style scoped>\n",
       "    .dataframe tbody tr th:only-of-type {\n",
       "        vertical-align: middle;\n",
       "    }\n",
       "\n",
       "    .dataframe tbody tr th {\n",
       "        vertical-align: top;\n",
       "    }\n",
       "\n",
       "    .dataframe thead th {\n",
       "        text-align: right;\n",
       "    }\n",
       "</style>\n",
       "<table border=\"1\" class=\"dataframe\">\n",
       "  <thead>\n",
       "    <tr style=\"text-align: right;\">\n",
       "      <th></th>\n",
       "      <th>feature</th>\n",
       "      <th>scores</th>\n",
       "    </tr>\n",
       "  </thead>\n",
       "  <tbody>\n",
       "    <tr>\n",
       "      <th>7</th>\n",
       "      <td>tcp_dstport</td>\n",
       "      <td>65902.683596</td>\n",
       "    </tr>\n",
       "    <tr>\n",
       "      <th>6</th>\n",
       "      <td>tcp_srcport</td>\n",
       "      <td>40358.782288</td>\n",
       "    </tr>\n",
       "    <tr>\n",
       "      <th>9</th>\n",
       "      <td>udp_srcport</td>\n",
       "      <td>26119.902242</td>\n",
       "    </tr>\n",
       "    <tr>\n",
       "      <th>3</th>\n",
       "      <td>ip_flags</td>\n",
       "      <td>9489.374402</td>\n",
       "    </tr>\n",
       "    <tr>\n",
       "      <th>8</th>\n",
       "      <td>tcp_flags</td>\n",
       "      <td>8881.530829</td>\n",
       "    </tr>\n",
       "    <tr>\n",
       "      <th>4</th>\n",
       "      <td>ipv6_nxt</td>\n",
       "      <td>7728.277404</td>\n",
       "    </tr>\n",
       "    <tr>\n",
       "      <th>1</th>\n",
       "      <td>eth_type</td>\n",
       "      <td>7691.922210</td>\n",
       "    </tr>\n",
       "    <tr>\n",
       "      <th>0</th>\n",
       "      <td>frame_len</td>\n",
       "      <td>7352.275173</td>\n",
       "    </tr>\n",
       "    <tr>\n",
       "      <th>10</th>\n",
       "      <td>udp_dstport</td>\n",
       "      <td>4659.166980</td>\n",
       "    </tr>\n",
       "    <tr>\n",
       "      <th>2</th>\n",
       "      <td>ip_proto</td>\n",
       "      <td>1363.429444</td>\n",
       "    </tr>\n",
       "    <tr>\n",
       "      <th>5</th>\n",
       "      <td>ipv6_opt</td>\n",
       "      <td>603.095045</td>\n",
       "    </tr>\n",
       "  </tbody>\n",
       "</table>\n",
       "</div>"
      ],
      "text/plain": [
       "        feature        scores\n",
       "7   tcp_dstport  65902.683596\n",
       "6   tcp_srcport  40358.782288\n",
       "9   udp_srcport  26119.902242\n",
       "3      ip_flags   9489.374402\n",
       "8     tcp_flags   8881.530829\n",
       "4      ipv6_nxt   7728.277404\n",
       "1      eth_type   7691.922210\n",
       "0     frame_len   7352.275173\n",
       "10  udp_dstport   4659.166980\n",
       "2      ip_proto   1363.429444\n",
       "5      ipv6_opt    603.095045"
      ]
     },
     "metadata": {},
     "output_type": "display_data"
    }
   ],
   "source": [
    "X = train_df.iloc[:, :-1]\n",
    "Y = train_df[\"class\"]\n",
    "kbest = SelectKBest(f_classif, k=11)\n",
    "kbest.fit(X, Y)\n",
    "sc = pd.DataFrame(\n",
    "    list(zip(X, kbest.scores_)), columns=[\"feature\", \"scores\"]\n",
    ").sort_values(\"scores\", ascending=False)\n",
    "display(sc)"
   ]
  },
  {
   "cell_type": "code",
   "execution_count": 9,
   "metadata": {},
   "outputs": [
    {
     "name": "stdout",
     "output_type": "stream",
     "text": [
      "['tcp_dstport', 'tcp_srcport', 'udp_srcport', 'ip_flags', 'tcp_flags']\n"
     ]
    }
   ],
   "source": [
    "selectN = 5\n",
    "selected_features = list(sc[\"feature\"][:selectN])\n",
    "print(selected_features)"
   ]
  },
  {
   "cell_type": "code",
   "execution_count": 10,
   "metadata": {},
   "outputs": [],
   "source": [
    "train_X = train_df[selected_features]\n",
    "train_Y = train_df[\"class\"]\n",
    "test_X = test_df[selected_features]\n",
    "test_Y = test_df[\"class\"]"
   ]
  },
  {
   "cell_type": "code",
   "execution_count": 43,
   "metadata": {},
   "outputs": [
    {
     "data": {
      "text/plain": [
       "4    604996\n",
       "3    217475\n",
       "0     81794\n",
       "2     36503\n",
       "1      6304\n",
       "Name: class, dtype: int64"
      ]
     },
     "execution_count": 43,
     "metadata": {},
     "output_type": "execute_result"
    }
   ],
   "source": [
    "train_Y.value_counts()"
   ]
  },
  {
   "cell_type": "markdown",
   "metadata": {},
   "source": [
    "## Store / Load Model"
   ]
  },
  {
   "cell_type": "code",
   "execution_count": 45,
   "metadata": {},
   "outputs": [],
   "source": [
    "import pickle \n",
    "def store_model(path, model):\n",
    "    with open(path, 'wb') as f:\n",
    "        pickle.dump(model, f)\n",
    "        \n",
    "def load_model(path):\n",
    "    with open(path, 'rb') as f:\n",
    "        model = pickle.load(f)\n",
    "    return model"
   ]
  },
  {
   "cell_type": "markdown",
   "metadata": {},
   "source": [
    "## Model Training"
   ]
  },
  {
   "cell_type": "code",
   "execution_count": 11,
   "metadata": {},
   "outputs": [],
   "source": [
    "from sklearn.model_selection import cross_val_score"
   ]
  },
  {
   "cell_type": "markdown",
   "metadata": {},
   "source": [
    "### Decision Tree\n",
    "#### Train"
   ]
  },
  {
   "cell_type": "code",
   "execution_count": 40,
   "metadata": {},
   "outputs": [
    {
     "name": "stdout",
     "output_type": "stream",
     "text": [
      "0.8597499068153167\n"
     ]
    }
   ],
   "source": [
    "dt = DecisionTreeClassifier(max_depth=5)\n",
    "scores = cross_val_score(dt, train_X, train_Y, cv=10, scoring=\"accuracy\")\n",
    "print(scores.mean())"
   ]
  },
  {
   "cell_type": "code",
   "execution_count": 41,
   "metadata": {},
   "outputs": [
    {
     "name": "stdout",
     "output_type": "stream",
     "text": [
      "0.8960807626030545\n"
     ]
    }
   ],
   "source": [
    "dt.fit(train_X, train_Y)\n",
    "print(dt.score(train_X, train_Y))"
   ]
  },
  {
   "cell_type": "markdown",
   "metadata": {},
   "source": [
    "#### Predict"
   ]
  },
  {
   "cell_type": "code",
   "execution_count": 42,
   "metadata": {},
   "outputs": [
    {
     "name": "stdout",
     "output_type": "stream",
     "text": [
      "Accuracy: 0.720\n",
      "Precision: 0.725\n"
     ]
    },
    {
     "name": "stderr",
     "output_type": "stream",
     "text": [
      "/home/rslai/.local/lib/python3.6/site-packages/sklearn/metrics/_classification.py:1272: UndefinedMetricWarning: Precision is ill-defined and being set to 0.0 in labels with no predicted samples. Use `zero_division` parameter to control this behavior.\n",
      "  _warn_prf(average, modifier, msg_start, len(result))\n"
     ]
    },
    {
     "name": "stdout",
     "output_type": "stream",
     "text": [
      "Recall: 0.720\n",
      "F1: 0.656\n",
      "\n"
     ]
    }
   ],
   "source": [
    "y = dt.predict(test_X)\n",
    "print(\"Accuracy: %1.3f\" % accuracy_score(test_Y, y))\n",
    "print(\"Precision: %1.3f\" % precision_score(test_Y, y, average=\"weighted\"))\n",
    "print(\"Recall: %1.3f\" % recall_score(test_Y, y, average=\"weighted\"))\n",
    "print(\"F1: %1.3f\\n\" % f1_score(test_Y, y, average=\"weighted\"))"
   ]
  },
  {
   "cell_type": "markdown",
   "metadata": {},
   "source": [
    "### Random Forest"
   ]
  },
  {
   "cell_type": "code",
   "execution_count": 15,
   "metadata": {},
   "outputs": [
    {
     "name": "stderr",
     "output_type": "stream",
     "text": [
      "/home/rslai/.local/lib/python3.6/site-packages/sklearn/utils/deprecation.py:144: FutureWarning: The sklearn.ensemble.forest module is  deprecated in version 0.22 and will be removed in version 0.24. The corresponding classes / functions should instead be imported from sklearn.ensemble. Anything that cannot be imported from sklearn.ensemble is now part of the private API.\n",
      "  warnings.warn(message, FutureWarning)\n",
      "/home/rslai/.local/lib/python3.6/site-packages/sklearn/externals/joblib/__init__.py:15: FutureWarning: sklearn.externals.joblib is deprecated in 0.21 and will be removed in 0.23. Please import this functionality directly from joblib, which can be installed with: pip install joblib. If this warning is raised when loading pickled models, you may need to re-serialize those models with scikit-learn 0.21+.\n",
      "  warnings.warn(msg, category=FutureWarning)\n"
     ]
    }
   ],
   "source": [
    "from sklearn.ensemble import RandomForestClassifier\n",
    "\n",
    "from scipy.stats import mode\n",
    "from sklearn.ensemble.forest import _partition_estimators, _accumulate_prediction\n",
    "from sklearn.tree._tree import DTYPE\n",
    "from sklearn.externals.joblib import Parallel, delayed\n",
    "from sklearn.utils import check_array\n",
    "from sklearn.utils.validation import check_is_fitted\n",
    "import threading\n",
    "from sklearn.utils.fixes import _joblib_parallel_args"
   ]
  },
  {
   "cell_type": "code",
   "execution_count": 16,
   "metadata": {},
   "outputs": [],
   "source": [
    "def _parallel_helper(obj, methodname, *args, **kwargs):\n",
    "    return getattr(obj, methodname)(*args, **kwargs)\n",
    "\n",
    "def predict_majvote(_forest, X):\n",
    "    \"\"\"Predict class for X.\n",
    "\n",
    "    Uses majority voting, rather than the soft voting scheme\n",
    "    used by RandomForestClassifier.predict.\n",
    "\n",
    "    Parameters\n",
    "    ----------\n",
    "    X : array-like or sparse matrix of shape = [n_samples, n_features]\n",
    "        The input samples. Internally, it will be converted to\n",
    "        ``dtype=np.float32`` and if a sparse matrix is provided\n",
    "        to a sparse ``csr_matrix``.\n",
    "    Returns\n",
    "    -------\n",
    "    y : array of shape = [n_samples] or [n_samples, n_outputs]\n",
    "        The predicted classes.\n",
    "    \"\"\"\n",
    "    check_is_fitted(_forest, 'n_outputs_')\n",
    "\n",
    "    # Check data\n",
    "    X = check_array(X, dtype=DTYPE, accept_sparse=\"csr\")\n",
    "\n",
    "    # Assign chunk of trees to jobs\n",
    "    n_jobs, n_trees, starts = _partition_estimators(forest.n_estimators,\n",
    "                                                    forest.n_jobs)\n",
    "\n",
    "    # Parallel loop    \n",
    "    all_preds = Parallel(n_jobs=n_jobs, verbose=forest.verbose,\n",
    "                         backend=\"threading\")(\n",
    "        delayed(_parallel_helper)(e, 'predict', X, check_input=False)\n",
    "        for e in forest.estimators_)\n",
    "\n",
    "    \n",
    "    # Reduce\n",
    "    \n",
    "    modes, counts = mode(all_preds, axis=0)\n",
    "    modes = modes.astype(int)\n",
    "    \n",
    "    if _forest.n_outputs_ == 1:\n",
    "        return _forest.classes_.take(modes[0], axis=0)\n",
    "    else:\n",
    "        n_samples = all_preds[0].shape[0]\n",
    "        preds = np.zeros((n_samples, _forest.n_outputs_),\n",
    "                         dtype=_forest.classes_.dtype)\n",
    "        for k in range(_forest.n_outputs_):\n",
    "            preds[:, k] = _forest.classes_[k].take(modes[:, k], axis=0)\n",
    "        return preds"
   ]
  },
  {
   "cell_type": "markdown",
   "metadata": {},
   "source": [
    "#### Train"
   ]
  },
  {
   "cell_type": "code",
   "execution_count": 36,
   "metadata": {},
   "outputs": [],
   "source": [
    "train_new = False"
   ]
  },
  {
   "cell_type": "code",
   "execution_count": 37,
   "metadata": {},
   "outputs": [],
   "source": [
    "if not train_new:\n",
    "    forest = load_model('8_5/forest_8_5.pickle')\n",
    "    Ntree = len(forest.estimators_)\n",
    "else:\n",
    "    Ntree = 8\n",
    "    forest = RandomForestClassifier(max_depth=5, n_estimators=Ntree, max_features=None)\n",
    "    scores = cross_val_score(forest, train_X, train_Y, cv=10, scoring=\"accuracy\")\n",
    "    print(scores.mean())\n",
    "    forest.fit(train_X, train_Y)\n",
    "    print(forest.score(train_X, train_Y))"
   ]
  },
  {
   "cell_type": "markdown",
   "metadata": {},
   "source": [
    "#### Predict by prob"
   ]
  },
  {
   "cell_type": "code",
   "execution_count": 34,
   "metadata": {},
   "outputs": [
    {
     "name": "stdout",
     "output_type": "stream",
     "text": [
      "Accuracy: 0.723\n",
      "Precision: 0.732\n"
     ]
    },
    {
     "name": "stderr",
     "output_type": "stream",
     "text": [
      "/home/rslai/.local/lib/python3.6/site-packages/sklearn/metrics/_classification.py:1272: UndefinedMetricWarning: Precision is ill-defined and being set to 0.0 in labels with no predicted samples. Use `zero_division` parameter to control this behavior.\n",
      "  _warn_prf(average, modifier, msg_start, len(result))\n"
     ]
    },
    {
     "name": "stdout",
     "output_type": "stream",
     "text": [
      "Recall: 0.723\n",
      "F1: 0.663\n",
      "\n"
     ]
    }
   ],
   "source": [
    "y = forest.predict(test_X)\n",
    "print(\"Accuracy: %1.3f\" % accuracy_score(test_Y, y))\n",
    "print(\"Precision: %1.3f\" % precision_score(test_Y, y, average=\"weighted\"))\n",
    "print(\"Recall: %1.3f\" % recall_score(test_Y, y, average=\"weighted\"))\n",
    "print(\"F1: %1.3f\\n\" % f1_score(test_Y, y, average=\"weighted\"))"
   ]
  },
  {
   "cell_type": "code",
   "execution_count": 35,
   "metadata": {},
   "outputs": [],
   "source": [
    "if train_new:\n",
    "    store_model('8_5/forest_8_5', forest)"
   ]
  },
  {
   "cell_type": "markdown",
   "metadata": {},
   "source": [
    "#### Predict by vote"
   ]
  },
  {
   "cell_type": "code",
   "execution_count": 38,
   "metadata": {},
   "outputs": [
    {
     "name": "stdout",
     "output_type": "stream",
     "text": [
      "Accuracy: 0.723\n",
      "Precision: 0.732\n"
     ]
    },
    {
     "name": "stderr",
     "output_type": "stream",
     "text": [
      "/home/rslai/.local/lib/python3.6/site-packages/sklearn/metrics/_classification.py:1272: UndefinedMetricWarning: Precision is ill-defined and being set to 0.0 in labels with no predicted samples. Use `zero_division` parameter to control this behavior.\n",
      "  _warn_prf(average, modifier, msg_start, len(result))\n"
     ]
    },
    {
     "name": "stdout",
     "output_type": "stream",
     "text": [
      "Recall: 0.723\n",
      "F1: 0.663\n",
      "\n"
     ]
    }
   ],
   "source": [
    "y_ = predict_majvote(forest, test_X)\n",
    "print(\"Accuracy: %1.3f\" % accuracy_score(test_Y, y_))\n",
    "print(\"Precision: %1.3f\" % precision_score(test_Y, y_, average=\"weighted\"))\n",
    "print(\"Recall: %1.3f\" % recall_score(test_Y, y_, average=\"weighted\"))\n",
    "print(\"F1: %1.3f\\n\" % f1_score(test_Y, y_, average=\"weighted\"))"
   ]
  },
  {
   "cell_type": "code",
   "execution_count": 39,
   "metadata": {},
   "outputs": [
    {
     "data": {
      "text/plain": [
       "array([4, 4, 4, ..., 4, 4, 4])"
      ]
     },
     "execution_count": 39,
     "metadata": {},
     "output_type": "execute_result"
    }
   ],
   "source": [
    "y_"
   ]
  },
  {
   "cell_type": "markdown",
   "metadata": {},
   "source": [
    "## Output"
   ]
  },
  {
   "cell_type": "code",
   "execution_count": 23,
   "metadata": {},
   "outputs": [],
   "source": [
    "def tree_2_sw_configuration(isforest, model, thres_file):\n",
    "\n",
    "    if isforest:\n",
    "        _Ntree = Ntree\n",
    "    else:\n",
    "        _Ntree = 1\n",
    "\n",
    "    feature_lists = defaultdict(list)\n",
    "    for j in range(_Ntree):\n",
    "        threshold = model[j].tree_.threshold\n",
    "        features = [selected_features[i] for i in model[j].tree_.feature]\n",
    "        for i, fe in enumerate(features):\n",
    "            if threshold[i] > -2:\n",
    "                feature_lists[fe].append(int(threshold[i]))\n",
    "\n",
    "    for i in feature_lists:\n",
    "        feature_lists[i] = sorted(list(set(feature_lists[i])))\n",
    "        \n",
    "    with open(thres_file,'w') as f:\n",
    "        for i in feature_lists:\n",
    "            f.write(i+'='+str(feature_lists[i])+'\\n')\n",
    "\n",
    "    rslt = defaultdict(list)\n",
    "    for n in range(_Ntree):\n",
    "        left = model[n].tree_.children_left\n",
    "        right = model[n].tree_.children_right\n",
    "        threshold = model[n].tree_.threshold\n",
    "        features = [selected_features[i] for i in model[n].tree_.feature]\n",
    "        value = model[n].tree_.value\n",
    "        idx = np.argwhere(left == -1)[:, 0]\n",
    "\n",
    "        def recurse(left, right, child, lineage=None):\n",
    "            if lineage is None:\n",
    "                lineage = [child]\n",
    "            if child in left:\n",
    "                parent = np.where(left == child)[0].item()\n",
    "                split = \"l\"\n",
    "            else:\n",
    "                parent = np.where(right == child)[0].item()\n",
    "                split = \"r\"\n",
    "\n",
    "            lineage.append((parent, split, threshold[parent], features[parent]))\n",
    "            if parent == 0:\n",
    "                lineage.reverse()\n",
    "                return lineage\n",
    "            else:\n",
    "                return recurse(left, right, parent, lineage)\n",
    "\n",
    "        for j, child in enumerate(idx):\n",
    "            feature_idxs = {}\n",
    "            for i in selected_features:\n",
    "                feature_idxs[i] = [i for i in range(len(feature_lists[i]) + 1)]\n",
    "\n",
    "            rl = []\n",
    "            for node in recurse(left, right, child):\n",
    "\n",
    "                if len(str(node)) < 3:\n",
    "                    continue\n",
    "                \n",
    "                if type(node) is not tuple:\n",
    "                    continue\n",
    "                \n",
    "                i = node\n",
    "                thres = int(i[2])\n",
    "                id = feature_lists[i[3]].index(thres)\n",
    "                if i[1] == \"l\":\n",
    "                    while id < len(feature_lists[i[3]]):\n",
    "                        if id + 1 in feature_idxs[i[3]]:\n",
    "                            feature_idxs[i[3]].remove(id + 1)\n",
    "                        id = id + 1\n",
    "                else:\n",
    "                    while id >= 0:\n",
    "                        if id in feature_idxs[i[3]]:\n",
    "                            feature_idxs[i[3]].remove(id)\n",
    "                        id = id - 1\n",
    "\n",
    "            for k in selected_features:\n",
    "                rl.append(feature_idxs[k])\n",
    "\n",
    "            a = list(value[node][0])\n",
    "            ind = a.index(max(a))\n",
    "\n",
    "            for combination in itertools.product(*rl):\n",
    "                if not rslt[combination]:\n",
    "                    rslt[combination] = [-1 for i in range(_Ntree)]\n",
    "                rslt[combination][n] = ind\n",
    "\n",
    "    return rslt"
   ]
  },
  {
   "cell_type": "code",
   "execution_count": 24,
   "metadata": {},
   "outputs": [],
   "source": [
    "cfg = tree_2_sw_configuration(True, forest.estimators_,'6_9/thres')"
   ]
  },
  {
   "cell_type": "code",
   "execution_count": 25,
   "metadata": {
    "scrolled": true
   },
   "outputs": [],
   "source": [
    "output = []\n",
    "for key, value in cfg.items():\n",
    "    code = list(key)\n",
    "    output.append(tuple(code + value))\n",
    "hdrs = selected_features + [(\"action\" + str(i)) for i in range(Ntree)]"
   ]
  },
  {
   "cell_type": "code",
   "execution_count": 26,
   "metadata": {},
   "outputs": [
    {
     "name": "stdout",
     "output_type": "stream",
     "text": [
      "0 99999\n",
      "100000 199999\n",
      "200000 299999\n",
      "300000 399999\n",
      "400000 499999\n",
      "500000 599999\n",
      "600000 699999\n",
      "700000 799999\n",
      "800000 899999\n",
      "900000 999999\n",
      "1000000 1099999\n",
      "1100000 1199999\n",
      "1200000 1299999\n",
      "1300000 1399999\n",
      "1400000 1499999\n",
      "1500000 1599999\n",
      "1600000 1699999\n",
      "1700000 1799999\n",
      "1800000 1899999\n",
      "1900000 1999999\n",
      "2000000 2099999\n",
      "2100000 2199999\n",
      "2200000 2299999\n",
      "2300000 2399999\n",
      "2400000 2499999\n",
      "2500000 2599999\n",
      "2600000 2699999\n",
      "2700000 2799999\n",
      "2800000 2899999\n",
      "2900000 2999999\n",
      "3000000 3099999\n",
      "3100000 3199999\n",
      "3200000 3299999\n",
      "3300000 3399999\n",
      "3400000 3499999\n",
      "3500000 3599999\n",
      "3600000 3699999\n",
      "3700000 3799999\n",
      "3800000 3899999\n",
      "3900000 3999999\n",
      "4000000 4099999\n",
      "4100000 4199999\n",
      "4200000 4299999\n",
      "4300000 4399999\n",
      "4400000 4499999\n",
      "4500000 4599999\n",
      "4600000 4699999\n",
      "4700000 4799999\n",
      "4800000 4899999\n",
      "4900000 4999999\n",
      "5000000 5099999\n",
      "5100000 5199999\n",
      "5200000 5299999\n",
      "5300000 5399999\n",
      "5400000 5499999\n",
      "5500000 5599999\n",
      "5600000 5699999\n",
      "5700000 5799999\n",
      "5800000 5899999\n",
      "5900000 5999999\n",
      "6000000 6099999\n",
      "6100000 6199999\n",
      "6200000 6299999\n",
      "6300000 6399999\n",
      "6400000 6499999\n",
      "6500000 6599999\n",
      "6600000 6699999\n",
      "6700000 6799999\n",
      "6800000 6899999\n",
      "6900000 6999999\n",
      "7000000 7099999\n",
      "7100000 7199999\n",
      "7200000 7299999\n",
      "7300000 7399999\n",
      "7400000 7499999\n",
      "7500000 7599999\n",
      "7600000 7699999\n",
      "7700000 7799999\n",
      "7800000 7899999\n",
      "7900000 7999999\n",
      "8000000 8099999\n",
      "8100000 8199999\n",
      "8200000 8299999\n",
      "8300000 8399999\n",
      "8400000 8499999\n",
      "8500000 8599999\n",
      "8600000 8699999\n",
      "8700000 8799999\n",
      "8800000 8899999\n",
      "8900000 8999999\n",
      "9000000 9099999\n",
      "9100000 9199999\n",
      "9200000 9299999\n",
      "9300000 9399999\n",
      "9400000 9499999\n",
      "9500000 9599999\n",
      "9600000 9699999\n",
      "9700000 9799999\n",
      "9800000 9899999\n",
      "9900000 9999999\n",
      "10000000 10099999\n",
      "10100000 10199999\n",
      "10200000 10299999\n",
      "10300000 10399999\n",
      "10400000 10499999\n",
      "10500000 10599999\n",
      "10600000 10699999\n",
      "10700000 10799999\n",
      "10800000 10899999\n",
      "10900000 10999999\n",
      "11000000 11099999\n",
      "11100000 11199999\n",
      "11200000 11299999\n",
      "11300000 11399999\n",
      "11400000 11499999\n",
      "11500000 11599999\n",
      "11600000 11699999\n",
      "11700000 11799999\n",
      "11800000 11899999\n",
      "11900000 11999999\n",
      "12000000 12099999\n",
      "12100000 12199999\n",
      "12200000 12299999\n",
      "12300000 12399999\n",
      "12400000 12499999\n",
      "12500000 12599999\n",
      "12600000 12699999\n",
      "12700000 12799999\n",
      "12800000 12899999\n",
      "12900000 12999999\n",
      "13000000 13099999\n",
      "13100000 13199999\n",
      "13200000 13299999\n",
      "13300000 13399999\n",
      "13400000 13499999\n",
      "13500000 13599999\n",
      "13600000 13699999\n",
      "13700000 13799999\n",
      "13800000 13899999\n",
      "13900000 13999999\n",
      "14000000 14099999\n",
      "14100000 14199999\n",
      "14200000 14299999\n",
      "14300000 14399999\n",
      "14400000 14499999\n",
      "14500000 14599999\n",
      "14600000 14699999\n",
      "14700000 14799999\n",
      "14800000 14899999\n",
      "14900000 14999999\n",
      "15000000 15099999\n",
      "15100000 15199999\n",
      "15200000 15299999\n",
      "15300000 15399999\n",
      "15400000 15499999\n",
      "15500000 15599999\n",
      "15600000 15699999\n",
      "15700000 15799999\n",
      "15800000 15899999\n",
      "15900000 15999999\n",
      "16000000 16099999\n",
      "16100000 16199999\n",
      "16200000 16299999\n",
      "16300000 16399999\n",
      "16400000 16499999\n",
      "16500000 16599999\n",
      "16600000 16699999\n",
      "16700000 16799999\n",
      "16800000 16899999\n",
      "16900000 16999999\n",
      "17000000 17099999\n",
      "17100000 17199999\n",
      "17200000 17299999\n",
      "17300000 17399999\n",
      "17400000 17499999\n",
      "17500000 17599999\n",
      "17600000 17699999\n",
      "17700000 17799999\n",
      "17800000 17899999\n",
      "17900000 17999999\n",
      "18000000 18099999\n",
      "18100000 18199999\n",
      "18200000 18299999\n",
      "18300000 18399999\n",
      "18400000 18499999\n",
      "18500000 18599999\n",
      "18600000 18699999\n",
      "18700000 18799999\n",
      "18800000 18899999\n",
      "18900000 18999999\n",
      "19000000 19099999\n",
      "19100000 19199999\n",
      "19200000 19299999\n",
      "19300000 19399999\n",
      "19400000 19499999\n",
      "19500000 19599999\n",
      "19600000 19699999\n",
      "19700000 19799999\n",
      "19800000 19899999\n",
      "19900000 19999999\n",
      "20000000 20099999\n",
      "20100000 20199999\n",
      "20200000 20299999\n",
      "20300000 20399999\n",
      "20400000 20499999\n",
      "20500000 20599999\n",
      "20600000 20699999\n",
      "20700000 20799999\n",
      "20800000 20899999\n",
      "20900000 20999999\n",
      "21000000 21099999\n",
      "21100000 21199999\n",
      "21200000 21299999\n",
      "21300000 21399999\n",
      "21400000 21499999\n",
      "21500000 21599999\n",
      "21600000 21699999\n",
      "21700000 21799999\n",
      "21800000 21899999\n",
      "21900000 21999999\n",
      "22000000 22099999\n",
      "22100000 22199999\n",
      "22200000 22299999\n",
      "22300000 22399999\n",
      "22400000 22499999\n",
      "22500000 22599999\n",
      "22600000 22699999\n",
      "22700000 22799999\n",
      "22800000 22899999\n",
      "22900000 22999999\n",
      "23000000 23099999\n",
      "23100000 23199999\n",
      "23200000 23299999\n",
      "23300000 23399999\n",
      "23400000 23499999\n",
      "23500000 23599999\n",
      "23600000 23699999\n",
      "23700000 23799999\n",
      "23800000 23899999\n",
      "23900000 23999999\n",
      "24000000 24099999\n",
      "24100000 24199999\n",
      "24200000 24299999\n",
      "24300000 24399999\n",
      "24400000 24499999\n",
      "24500000 24599999\n",
      "24600000 24699999\n",
      "24700000 24799999\n",
      "24800000 24899999\n",
      "24900000 24999999\n",
      "25000000 25099999\n",
      "25100000 25199999\n",
      "25200000 25299999\n",
      "25300000 25399999\n",
      "25400000 25499999\n",
      "25500000 25599999\n",
      "25600000 25699999\n",
      "25700000 25790076\n"
     ]
    }
   ],
   "source": [
    "num = 100000\n",
    "iters = int(len(output)/num) + 1\n",
    "for i in range(iters):\n",
    "    left = i*num\n",
    "    right = min((i+1)*num-1,len(output))\n",
    "    print(left,right)\n",
    "    output_df = pd.DataFrame(output[left:right], columns=hdrs)\n",
    "    output_df[\"max_freq\"] = output_df[[(\"action\" + str(i)) for i in range(Ntree)]].agg(\n",
    "        lambda x: x.mode() if x.mode().size == 1 else min(x.mode()), axis=1\n",
    "    )\n",
    "    output_df.to_csv('6_9/result/' + str(i) + '.csv',index=False)\n",
    "    #display(output_df.head())"
   ]
  },
  {
   "cell_type": "code",
   "execution_count": null,
   "metadata": {},
   "outputs": [],
   "source": []
  }
 ],
 "metadata": {
  "kernelspec": {
   "display_name": "Python 3",
   "language": "python",
   "name": "python3"
  },
  "language_info": {
   "codemirror_mode": {
    "name": "ipython",
    "version": 3
   },
   "file_extension": ".py",
   "mimetype": "text/x-python",
   "name": "python",
   "nbconvert_exporter": "python",
   "pygments_lexer": "ipython3",
   "version": "3.6.10"
  }
 },
 "nbformat": 4,
 "nbformat_minor": 4
}
